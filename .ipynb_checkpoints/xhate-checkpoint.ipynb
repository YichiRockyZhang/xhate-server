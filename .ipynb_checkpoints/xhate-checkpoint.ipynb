{
 "cells": [
  {
   "cell_type": "code",
   "execution_count": 1,
   "id": "57e89cb2",
   "metadata": {},
   "outputs": [
    {
     "name": "stdout",
     "output_type": "stream",
     "text": [
      "Using kernel: xhate\n",
      "/fs/nexus-scratch/yzhang42/miniconda3/envs/xhate/bin/python\n",
      "Thu Apr 27 18:31:12 2023       \n",
      "+-----------------------------------------------------------------------------+\n",
      "| NVIDIA-SMI 525.105.17   Driver Version: 525.105.17   CUDA Version: 12.0     |\n",
      "|-------------------------------+----------------------+----------------------+\n",
      "| GPU  Name        Persistence-M| Bus-Id        Disp.A | Volatile Uncorr. ECC |\n",
      "| Fan  Temp  Perf  Pwr:Usage/Cap|         Memory-Usage | GPU-Util  Compute M. |\n",
      "|                               |                      |               MIG M. |\n",
      "|===============================+======================+======================|\n",
      "|   0  NVIDIA RTX A4000    Off  | 00000000:C1:00.0 Off |                  Off |\n",
      "| 41%   31C    P8    13W / 140W |      0MiB / 16376MiB |      0%      Default |\n",
      "|                               |                      |                  N/A |\n",
      "+-------------------------------+----------------------+----------------------+\n",
      "                                                                               \n",
      "+-----------------------------------------------------------------------------+\n",
      "| Processes:                                                                  |\n",
      "|  GPU   GI   CI        PID   Type   Process name                  GPU Memory |\n",
      "|        ID   ID                                                   Usage      |\n",
      "|=============================================================================|\n",
      "|  No running processes found                                                 |\n",
      "+-----------------------------------------------------------------------------+\n",
      "env: HF_HOME=/fs/nexus-scratch/yzhang42/.hf_cache/\n",
      "env: TRANSFORMERS_CACHE=/fs/nexus-scratch/yzhang42/.hf_cache/transformers\n",
      "env: HF_DATASETS_CACHE=/fs/nexus-scratch/yzhang42/.hf_cache/datasets\n",
      "Storing datasets in: /fs/nexus-scratch/yzhang42/.hf_cache/datasets\n",
      "Using device: cuda\n"
     ]
    }
   ],
   "source": [
    "import os\n",
    "import torch\n",
    "import numpy as np\n",
    "\n",
    "print(\"Using kernel:\", os.environ['CONDA_DEFAULT_ENV'])\n",
    "\n",
    "! which python\n",
    "# ! jupyter kernelspec list --json\n",
    "\n",
    "# Should show a GPU being used\n",
    "! nvidia-smi\n",
    "\n",
    "# Creates a cache for pretrained models/datasets in the scratch dir\n",
    "# !mkdir /fs/nexus-scratch/yzhang42/.hf_cache\n",
    "\n",
    "CACHE_DIR = \"/fs/nexus-scratch/yzhang42/.hf_cache\"\n",
    "%set_env HF_HOME=/fs/nexus-scratch/yzhang42/.hf_cache/\n",
    "%set_env TRANSFORMERS_CACHE=/fs/nexus-scratch/yzhang42/.hf_cache/transformers\n",
    "%set_env HF_DATASETS_CACHE=/fs/nexus-scratch/yzhang42/.hf_cache/datasets\n",
    "# \"/fs/nexus-scratch/yzhang42/.hf_cache/datasets/wiki_dpr/psgs_w100.multiset.exact/0.0.0/74d4bff38a7c18a9498fafef864a8ba7129e27cb8d71b22f5e14d84cb17edd54\"\n",
    "print(\"Storing datasets in:\", os.environ['HF_DATASETS_CACHE'])\n",
    "\n",
    "device = torch.device('cuda')\n",
    "print(f\"Using device: {device}\")"
   ]
  },
  {
   "cell_type": "code",
   "execution_count": 5,
   "id": "36cc5f66",
   "metadata": {},
   "outputs": [],
   "source": [
    "from transformers import AutoTokenizer, AutoModelForSequenceClassification\n",
    "from models import Model_Rational_Label\n",
    "tokenizer = AutoTokenizer.from_pretrained(\"Hate-speech-CNERG/bert-base-uncased-hatexplain\")\n",
    "model = AutoModelForSequenceClassification.from_pretrained(\"Hate-speech-CNERG/bert-base-uncased-hatexplain\")\n",
    "# tokenizer = AutoTokenizer.from_pretrained(\"Hate-speech-CNERG/bert-base-uncased-hatexplain-rationale-two\")\n",
    "# model = Model_Rational_Label.from_pretrained(\"Hate-speech-CNERG/bert-base-uncased-hatexplain-rationale-two\")\n"
   ]
  },
  {
   "cell_type": "code",
   "execution_count": 9,
   "id": "b0017054",
   "metadata": {},
   "outputs": [],
   "source": [
    "test = \"I hate niggers. Mexicans should be deported.\"\n",
    "def compute_forward(input_str):\n",
    "    inputs = tokenizer(input_str, return_tensors=\"pt\")\n",
    "    outputs = model(input_ids=inputs['input_ids'], attention_mask=inputs['attention_mask'])\n",
    "    return outputs\n",
    "outputs = compute_forward(test)"
   ]
  },
  {
   "cell_type": "code",
   "execution_count": 10,
   "id": "15e2ef06",
   "metadata": {},
   "outputs": [
    {
     "data": {
      "text/plain": [
       "tensor([[0.8186, 0.0585, 0.1229]], grad_fn=<SoftmaxBackward0>)"
      ]
     },
     "execution_count": 10,
     "metadata": {},
     "output_type": "execute_result"
    }
   ],
   "source": [
    "logits = torch.nn.functional.softmax(outputs.logits, dim=1)"
   ]
  },
  {
   "cell_type": "code",
   "execution_count": null,
   "id": "26efc28d",
   "metadata": {},
   "outputs": [],
   "source": [
    "import plotly.express as px\n",
    "fig = px.pie(df, values='pop', names='country', title='Population of European continent')\n",
    "fig.show()"
   ]
  }
 ],
 "metadata": {
  "kernelspec": {
   "display_name": "xhate",
   "language": "python",
   "name": "xhate"
  },
  "language_info": {
   "codemirror_mode": {
    "name": "ipython",
    "version": 3
   },
   "file_extension": ".py",
   "mimetype": "text/x-python",
   "name": "python",
   "nbconvert_exporter": "python",
   "pygments_lexer": "ipython3",
   "version": "3.10.11"
  }
 },
 "nbformat": 4,
 "nbformat_minor": 5
}
